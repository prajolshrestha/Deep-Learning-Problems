{
 "cells": [
  {
   "cell_type": "code",
   "execution_count": 1,
   "metadata": {},
   "outputs": [
    {
     "name": "stderr",
     "output_type": "stream",
     "text": [
      "C:\\Users\\prajo\\AppData\\Local\\Temp\\ipykernel_5984\\2156533380.py:14: UserWarning: 'has_mps' is deprecated, please use 'torch.backends.mps.is_built()'\n",
      "  elif (torch.has_mps or torch.backends.mps.is_available()) and ALLOW_MPS:\n"
     ]
    },
    {
     "name": "stdout",
     "output_type": "stream",
     "text": [
      "Using device: cpu\n"
     ]
    },
    {
     "ename": "TypeError",
     "evalue": "cat() received an invalid combination of arguments - got (Tensor, Tensor), but expected one of:\n * (tuple of Tensors tensors, int dim, *, Tensor out)\n * (tuple of Tensors tensors, name dim, *, Tensor out)\n",
     "output_type": "error",
     "traceback": [
      "\u001b[1;31m---------------------------------------------------------------------------\u001b[0m",
      "\u001b[1;31mTypeError\u001b[0m                                 Traceback (most recent call last)",
      "\u001b[1;32md:\\Prajol Files\\Education\\Masters Files - FAU\\Lectures\\FAU Forth Semester\\Deep Learning\\programming task\\08_transformer_diffusion\\src\\sd\\demo.ipynb Cell 1\u001b[0m line \u001b[0;36m4\n\u001b[0;32m     <a href='vscode-notebook-cell:/d%3A/Prajol%20Files/Education/Masters%20Files%20-%20FAU/Lectures/FAU%20Forth%20Semester/Deep%20Learning/programming%20task/08_transformer_diffusion/src/sd/demo.ipynb#W0sZmlsZQ%3D%3D?line=37'>38</a>\u001b[0m num_inference_steps \u001b[39m=\u001b[39m \u001b[39m50\u001b[39m\n\u001b[0;32m     <a href='vscode-notebook-cell:/d%3A/Prajol%20Files/Education/Masters%20Files%20-%20FAU/Lectures/FAU%20Forth%20Semester/Deep%20Learning/programming%20task/08_transformer_diffusion/src/sd/demo.ipynb#W0sZmlsZQ%3D%3D?line=38'>39</a>\u001b[0m seed \u001b[39m=\u001b[39m \u001b[39m42\u001b[39m\n\u001b[1;32m---> <a href='vscode-notebook-cell:/d%3A/Prajol%20Files/Education/Masters%20Files%20-%20FAU/Lectures/FAU%20Forth%20Semester/Deep%20Learning/programming%20task/08_transformer_diffusion/src/sd/demo.ipynb#W0sZmlsZQ%3D%3D?line=40'>41</a>\u001b[0m output_image \u001b[39m=\u001b[39m pipeline\u001b[39m.\u001b[39mgenerate(\n\u001b[0;32m     <a href='vscode-notebook-cell:/d%3A/Prajol%20Files/Education/Masters%20Files%20-%20FAU/Lectures/FAU%20Forth%20Semester/Deep%20Learning/programming%20task/08_transformer_diffusion/src/sd/demo.ipynb#W0sZmlsZQ%3D%3D?line=41'>42</a>\u001b[0m     prompt\u001b[39m=\u001b[39mprompt,\n\u001b[0;32m     <a href='vscode-notebook-cell:/d%3A/Prajol%20Files/Education/Masters%20Files%20-%20FAU/Lectures/FAU%20Forth%20Semester/Deep%20Learning/programming%20task/08_transformer_diffusion/src/sd/demo.ipynb#W0sZmlsZQ%3D%3D?line=42'>43</a>\u001b[0m     uncond_prompt\u001b[39m=\u001b[39muncond_prompt,\n\u001b[0;32m     <a href='vscode-notebook-cell:/d%3A/Prajol%20Files/Education/Masters%20Files%20-%20FAU/Lectures/FAU%20Forth%20Semester/Deep%20Learning/programming%20task/08_transformer_diffusion/src/sd/demo.ipynb#W0sZmlsZQ%3D%3D?line=43'>44</a>\u001b[0m     input_image\u001b[39m=\u001b[39minput_image,\n\u001b[0;32m     <a href='vscode-notebook-cell:/d%3A/Prajol%20Files/Education/Masters%20Files%20-%20FAU/Lectures/FAU%20Forth%20Semester/Deep%20Learning/programming%20task/08_transformer_diffusion/src/sd/demo.ipynb#W0sZmlsZQ%3D%3D?line=44'>45</a>\u001b[0m     strength\u001b[39m=\u001b[39mstrength,\n\u001b[0;32m     <a href='vscode-notebook-cell:/d%3A/Prajol%20Files/Education/Masters%20Files%20-%20FAU/Lectures/FAU%20Forth%20Semester/Deep%20Learning/programming%20task/08_transformer_diffusion/src/sd/demo.ipynb#W0sZmlsZQ%3D%3D?line=45'>46</a>\u001b[0m     do_cfg\u001b[39m=\u001b[39mdo_cfg,\n\u001b[0;32m     <a href='vscode-notebook-cell:/d%3A/Prajol%20Files/Education/Masters%20Files%20-%20FAU/Lectures/FAU%20Forth%20Semester/Deep%20Learning/programming%20task/08_transformer_diffusion/src/sd/demo.ipynb#W0sZmlsZQ%3D%3D?line=46'>47</a>\u001b[0m     cfg_scale\u001b[39m=\u001b[39mcfg_scale,\n\u001b[0;32m     <a href='vscode-notebook-cell:/d%3A/Prajol%20Files/Education/Masters%20Files%20-%20FAU/Lectures/FAU%20Forth%20Semester/Deep%20Learning/programming%20task/08_transformer_diffusion/src/sd/demo.ipynb#W0sZmlsZQ%3D%3D?line=47'>48</a>\u001b[0m     sampler_name\u001b[39m=\u001b[39msampler,\n\u001b[0;32m     <a href='vscode-notebook-cell:/d%3A/Prajol%20Files/Education/Masters%20Files%20-%20FAU/Lectures/FAU%20Forth%20Semester/Deep%20Learning/programming%20task/08_transformer_diffusion/src/sd/demo.ipynb#W0sZmlsZQ%3D%3D?line=48'>49</a>\u001b[0m     n_inference_steps\u001b[39m=\u001b[39mnum_inference_steps,\n\u001b[0;32m     <a href='vscode-notebook-cell:/d%3A/Prajol%20Files/Education/Masters%20Files%20-%20FAU/Lectures/FAU%20Forth%20Semester/Deep%20Learning/programming%20task/08_transformer_diffusion/src/sd/demo.ipynb#W0sZmlsZQ%3D%3D?line=49'>50</a>\u001b[0m     seed\u001b[39m=\u001b[39mseed,\n\u001b[0;32m     <a href='vscode-notebook-cell:/d%3A/Prajol%20Files/Education/Masters%20Files%20-%20FAU/Lectures/FAU%20Forth%20Semester/Deep%20Learning/programming%20task/08_transformer_diffusion/src/sd/demo.ipynb#W0sZmlsZQ%3D%3D?line=50'>51</a>\u001b[0m     models\u001b[39m=\u001b[39mmodels,\n\u001b[0;32m     <a href='vscode-notebook-cell:/d%3A/Prajol%20Files/Education/Masters%20Files%20-%20FAU/Lectures/FAU%20Forth%20Semester/Deep%20Learning/programming%20task/08_transformer_diffusion/src/sd/demo.ipynb#W0sZmlsZQ%3D%3D?line=51'>52</a>\u001b[0m     device\u001b[39m=\u001b[39mDEVICE,\n\u001b[0;32m     <a href='vscode-notebook-cell:/d%3A/Prajol%20Files/Education/Masters%20Files%20-%20FAU/Lectures/FAU%20Forth%20Semester/Deep%20Learning/programming%20task/08_transformer_diffusion/src/sd/demo.ipynb#W0sZmlsZQ%3D%3D?line=52'>53</a>\u001b[0m     idle_device\u001b[39m=\u001b[39m\u001b[39m'\u001b[39m\u001b[39mcpu\u001b[39m\u001b[39m'\u001b[39m,\n\u001b[0;32m     <a href='vscode-notebook-cell:/d%3A/Prajol%20Files/Education/Masters%20Files%20-%20FAU/Lectures/FAU%20Forth%20Semester/Deep%20Learning/programming%20task/08_transformer_diffusion/src/sd/demo.ipynb#W0sZmlsZQ%3D%3D?line=53'>54</a>\u001b[0m     tokenizer\u001b[39m=\u001b[39mtokenizer\n\u001b[0;32m     <a href='vscode-notebook-cell:/d%3A/Prajol%20Files/Education/Masters%20Files%20-%20FAU/Lectures/FAU%20Forth%20Semester/Deep%20Learning/programming%20task/08_transformer_diffusion/src/sd/demo.ipynb#W0sZmlsZQ%3D%3D?line=54'>55</a>\u001b[0m \n\u001b[0;32m     <a href='vscode-notebook-cell:/d%3A/Prajol%20Files/Education/Masters%20Files%20-%20FAU/Lectures/FAU%20Forth%20Semester/Deep%20Learning/programming%20task/08_transformer_diffusion/src/sd/demo.ipynb#W0sZmlsZQ%3D%3D?line=55'>56</a>\u001b[0m )\n\u001b[0;32m     <a href='vscode-notebook-cell:/d%3A/Prajol%20Files/Education/Masters%20Files%20-%20FAU/Lectures/FAU%20Forth%20Semester/Deep%20Learning/programming%20task/08_transformer_diffusion/src/sd/demo.ipynb#W0sZmlsZQ%3D%3D?line=57'>58</a>\u001b[0m Image\u001b[39m.\u001b[39mfromarray(output_image)\n",
      "File \u001b[1;32md:\\Prajol Files\\Education\\Masters Files - FAU\\Lectures\\FAU Forth Semester\\Deep Learning\\programming task\\08_transformer_diffusion\\src\\sd\\pipeline.py:54\u001b[0m, in \u001b[0;36mgenerate\u001b[1;34m(prompt, uncond_prompt, input_image, strength, do_cfg, cfg_scale, sampler_name, n_inference_steps, models, seed, device, idle_device, tokenizer)\u001b[0m\n\u001b[0;32m     50\u001b[0m     uncond_tokens \u001b[39m=\u001b[39m clip(uncond_tokens) \u001b[39m# (1,77,768)\u001b[39;00m\n\u001b[0;32m     52\u001b[0m     \u001b[39m# Combine conditional tokens and unconditional tokens\u001b[39;00m\n\u001b[0;32m     53\u001b[0m     \u001b[39m# (batch_size, seq_len, dim_embed) = (2,77,768)\u001b[39;00m\n\u001b[1;32m---> 54\u001b[0m     context \u001b[39m=\u001b[39m torch\u001b[39m.\u001b[39;49mcat(cond_tokens, uncond_tokens)\n\u001b[0;32m     56\u001b[0m \u001b[39melse\u001b[39;00m:\n\u001b[0;32m     57\u001b[0m     \u001b[39m# Use only prompt:\u001b[39;00m\n\u001b[0;32m     58\u001b[0m     tokens \u001b[39m=\u001b[39m tokenizer\u001b[39m.\u001b[39mbatch_encode_plus([prompt], padding\u001b[39m=\u001b[39m\u001b[39m\"\u001b[39m\u001b[39mmax_length\u001b[39m\u001b[39m\"\u001b[39m, max_length\u001b[39m=\u001b[39m\u001b[39m77\u001b[39m)\u001b[39m.\u001b[39minput_ids\n",
      "\u001b[1;31mTypeError\u001b[0m: cat() received an invalid combination of arguments - got (Tensor, Tensor), but expected one of:\n * (tuple of Tensors tensors, int dim, *, Tensor out)\n * (tuple of Tensors tensors, name dim, *, Tensor out)\n"
     ]
    }
   ],
   "source": [
    "import model_loader\n",
    "import pipeline\n",
    "from PIL import Image\n",
    "from transformers import CLIPTokenizer\n",
    "import torch\n",
    "\n",
    "DEVICE = \"cpu\"\n",
    "\n",
    "ALLOW_CUDA = False\n",
    "ALLOW_MPS = False\n",
    "\n",
    "if torch.cuda.is_available() and ALLOW_CUDA:\n",
    "    DEVICE = \"cuda\"\n",
    "elif (torch.has_mps or torch.backends.mps.is_available()) and ALLOW_MPS:\n",
    "    DEVICE = \"mps\"\n",
    "\n",
    "print(f\"Using device: {DEVICE}\")\n",
    "\n",
    "tokenizer = CLIPTokenizer(\"../data/vocab.json\", merges_file=\"../data/merges.txt\")\n",
    "model_file = \"../data/v1-5-pruned-emaonly.ckpt\"\n",
    "models = model_loader.preload_models_from_standard_weights(model_file, DEVICE)\n",
    "\n",
    "## TEXT to IMAGE\n",
    "\n",
    "prompt = \"A beautiful girl, highly detailed, ultra sharp, cinematic, 8k resolution\"\n",
    "uncond_prompt = \"\"\n",
    "do_cfg = True\n",
    "cfg_scale = 7\n",
    "\n",
    "## Image to Image\n",
    "\n",
    "input_image = None\n",
    "image_path = \"../images/dog.jpg\"\n",
    "# input_image = Image.open(image_path)\n",
    "strength = 0.9\n",
    "\n",
    "sampler = \"ddpm\"\n",
    "num_inference_steps = 50\n",
    "seed = 42\n",
    "\n",
    "output_image = pipeline.generate(\n",
    "    prompt=prompt,\n",
    "    uncond_prompt=uncond_prompt,\n",
    "    input_image=input_image,\n",
    "    strength=strength,\n",
    "    do_cfg=do_cfg,\n",
    "    cfg_scale=cfg_scale,\n",
    "    sampler_name=sampler,\n",
    "    n_inference_steps=num_inference_steps,\n",
    "    seed=seed,\n",
    "    models=models,\n",
    "    device=DEVICE,\n",
    "    idle_device='cpu',\n",
    "    tokenizer=tokenizer\n",
    "\n",
    ")\n",
    "\n",
    "Image.fromarray(output_image)"
   ]
  }
 ],
 "metadata": {
  "kernelspec": {
   "display_name": "Python 3",
   "language": "python",
   "name": "python3"
  },
  "language_info": {
   "codemirror_mode": {
    "name": "ipython",
    "version": 3
   },
   "file_extension": ".py",
   "mimetype": "text/x-python",
   "name": "python",
   "nbconvert_exporter": "python",
   "pygments_lexer": "ipython3",
   "version": "3.10.7"
  }
 },
 "nbformat": 4,
 "nbformat_minor": 2
}
